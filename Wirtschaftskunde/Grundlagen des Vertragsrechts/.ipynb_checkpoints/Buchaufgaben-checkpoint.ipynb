{
 "cells": [
  {
   "cell_type": "markdown",
   "metadata": {},
   "source": [
    "# Buchaufgaben"
   ]
  },
  {
   "cell_type": "markdown",
   "metadata": {},
   "source": [
    "## 1. Rechts- & Geschäftsfähigkeit"
   ]
  },
  {
   "cell_type": "markdown",
   "metadata": {},
   "source": [
    "### 1\n",
    "- Rechtsfähigkeit: Fähigkeit, Rechte und Pflichten zu tragen.\n",
    "- Geschäftsfähigkeit: Fähigkeit, ***selbstständig voll gültige*** Geschäfte zu tätigen"
   ]
  },
  {
   "cell_type": "markdown",
   "metadata": {},
   "source": [
    "### 2\n",
    "- Natürliche Person\n",
    "  - Beginn: Vollendung der Geburt\n",
    "  - Ende: Tod\n",
    "- Juristische Person\n",
    "  - Beginn\n",
    "    - privat***es Recht (AG, GmbH)***: Eintragung in ein Register (z.B. ***Handels***register)\n",
    "    - öffentlich***es Recht (Länder, Gemeinden)***: staatliche Zusage/Anerkennung\n",
    "  - Ende\n",
    "    - privat***es Recht***: Löschung vom Register\n",
    "    - öffentlich***es Recht***: staatlicher Entzug"
   ]
  },
  {
   "cell_type": "markdown",
   "metadata": {},
   "source": [
    "### 3\n",
    "- Staatsanwalt, Hans Huber & Richter sind natürliche Personen\n",
    "- Siemens AG ist eine juristische Person"
   ]
  },
  {
   "cell_type": "markdown",
   "metadata": {},
   "source": [
    "### 4\n",
    "- 20 Jahre: voll geschäftsfähig\n",
    "- 6 Jahre: Geschäftsunfähig\n",
    "- 16 Jahre: beschränkt geschäftsfähig"
   ]
  },
  {
   "cell_type": "markdown",
   "metadata": {},
   "source": [
    "### 5\n",
    "- ***Ein bestimmtes Maß an Urteilsvermögen ist vorausgesetzt***"
   ]
  },
  {
   "cell_type": "markdown",
   "metadata": {},
   "source": [
    "### 6\n",
    "- Wenn man es mit eigenen Mitteln bezahlen kann (Taschengeld) (nur Bargeschäfte)\n",
    "- Wenn es nur rechtliche Vorteile bringt\n",
    "- Wenn es ***einen Arbeitsverhältnisses betrifft***, welches der gesetzliche Vertreter schon zugestimmt hat"
   ]
  },
  {
   "cell_type": "markdown",
   "metadata": {},
   "source": [
    "### 7\n",
    "1. Nein, Anna ist geschäftsunfähig\n",
    "1. \n",
    "  1. Ja, ist gültig\n",
    "  1. Nein, Ratenzahlung ist bei beschränkter geschäftsfähigkeit nicht möglich\n",
    "1. Wenn das Geld ihm gehört, hat er es mit seinen eigenen Mitteln gezahlt und braucht keine Zustimmung seiner Eltern\n",
    "1. Siehe Punkt davor"
   ]
  },
  {
   "cell_type": "markdown",
   "metadata": {},
   "source": [
    "## 2. Rechtsgeschäfte"
   ]
  },
  {
   "cell_type": "markdown",
   "metadata": {},
   "source": [
    "### 1\n"
   ]
  }
 ],
 "metadata": {
  "kernelspec": {
   "display_name": "Python 3",
   "language": "python",
   "name": "python3"
  },
  "language_info": {
   "codemirror_mode": {
    "name": "ipython",
    "version": 3
   },
   "file_extension": ".py",
   "mimetype": "text/x-python",
   "name": "python",
   "nbconvert_exporter": "python",
   "pygments_lexer": "ipython3",
   "version": "3.7.4"
  }
 },
 "nbformat": 4,
 "nbformat_minor": 4
}
