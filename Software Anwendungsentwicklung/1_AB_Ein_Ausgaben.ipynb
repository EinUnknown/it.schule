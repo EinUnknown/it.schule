{
 "cells": [
  {
   "cell_type": "markdown",
   "metadata": {},
   "source": [
    "# Grundlagen Programmierung\n",
    "## Programme, Algorithmen, Variablen\n",
    "Beim Programmieren geht es im Allgemeinen darum, ein gegebenes Problem so zu bearbeiten, dass es mit Hilfe von Computern (Rechnern) oder Automaten gelöst werden kann. Um dieses Ziel zu erreichen gibt es verschiedene Programmiersprachen, die sich vor allem in der Anzahl der möglichen Anweisungen (=Befehle) und in ihren Einsatzgebieten unterscheiden.\n",
    "\n",
    "Die Kunst des Programmierens besteht jetzt darin, ein großes Problem so lange in kleinere Probleme zu zerlegen, bis man für jedes der kleinen Probleme eine „Schritt-für-Schritt-Anleitung“ gefunden hat. Diese Anleitung nennt man Algorithmus\n",
    "\n",
    "*Programmieren ist eine Tätigkeit, bei der man eine Lösung (Algorithmus) für ein bestehendes Problem sucht und die Lösung mit Hilfe einer Programmiersprache in eine Folge von Befehlen (Programm) umsetzt*"
   ]
  },
  {
   "cell_type": "markdown",
   "metadata": {},
   "source": [
    "### Arbeitsauftrag 1: Grunstruktur eines C# Programms und einfache Ausgabe\n",
    "\n",
    "a.) Implementieren Sie das unten stehende Konsolenprogramm mit Visual Studio\n",
    "\n",
    "( Menü: Datei->Neu->Projekt-> Konsolenanwendung) und starten Sie das Programm mit [F5] oder durch Anklicken des grünen Pfeil-Icons\n",
    "\n",
    "b.) Innerhalb eines Programms können Sie auch Kommentare verwenden. Zeilen die mit dem Kommentarzeichen ( // ) beginnen, werden vom Compiler ignoriert.\n",
    "\n",
    "Wie verhält sich ihr Programm wenn Sie die Anweisung Console.Read() auskommentieren?\n",
    "\n",
    "```class Program \n",
    "    { \n",
    "        static void Main(string[] args) \n",
    "        {\n",
    "            Console.WriteLine(\"Hello World\");\n",
    "            Console.Read();\n",
    "         }\n",
    "     }```"
   ]
  },
  {
   "cell_type": "code",
   "execution_count": 13,
   "metadata": {},
   "outputs": [
    {
     "data": {
      "text/html": [
       "Hello World"
      ],
      "text/plain": [
       "Hello World"
      ]
     },
     "execution_count": 13,
     "metadata": {},
     "output_type": "display_data"
    },
    {
     "data": {
      "text/html": [
       "<font style=\"color:Black\">-1\r\n",
       "</font>"
      ],
      "text/plain": [
       "-1\r\n"
      ]
     },
     "metadata": {},
     "output_type": "display_data"
    }
   ],
   "source": [
    "Console.WriteLine(\"Hello World\");\n",
    "Console.Read();"
   ]
  },
  {
   "cell_type": "code",
   "execution_count": 14,
   "metadata": {},
   "outputs": [
    {
     "data": {
      "text/html": [
       "Hello World"
      ],
      "text/plain": [
       "Hello World"
      ]
     },
     "execution_count": 14,
     "metadata": {},
     "output_type": "display_data"
    }
   ],
   "source": [
    "Console.WriteLine(\"Hello World\");\n",
    "//Console.Read();"
   ]
  },
  {
   "cell_type": "markdown",
   "metadata": {},
   "source": [
    "### Arbeitsauftrag 2\n",
    "\n",
    "In Programmen besteht häufig das Problem, dass bestimmte Werte zwischen-gespeichert werden müssen. Dies geschieht durch Reservieren von Speicherplatz, der sogenannten Variablendeklaration. Da verschiedene Zahlen und Zeichenketten unterschiedlich viel Speicherplatz benötigen, verlangt C# die Angabe eines Datentyps um die Größe des notwendigen Speicherplatzes zu erkennen. Die folgende Tabelle beschreibt einige gebräuchliche Datentypen. In der Spalte Beispiel finden Sie jeweils eine Variablendeklaration sowie die Zuweisung eines Wertes.\n",
    "\n",
    "![](img/1_AB_Ein_Ausgabe_1.PNG)\n",
    "\n",
    "Erstellen Sie eine neue Konsolenanwendung in den folgenden Schritten\n",
    "\n",
    "- Deklarieren Sie 3 Variablen zahl1, zahl2 und ergebnis vom Typ int\n",
    "- Weisen Sie zahl1 und zahl2 einen beliebigen Wert zu\n",
    "- Speichern Sie die Summe aus zahl1 und zahl2 in der Variablen ergebnis\n",
    "- Geben Sie den Inhalt der Variablen ergebnis auf der Console aus"
   ]
  },
  {
   "cell_type": "code",
   "execution_count": 16,
   "metadata": {},
   "outputs": [
    {
     "data": {
      "text/html": [
       "43"
      ],
      "text/plain": [
       "43"
      ]
     },
     "execution_count": 16,
     "metadata": {},
     "output_type": "display_data"
    }
   ],
   "source": [
    "int zahl1, zahl2, ergebnis;\n",
    "zahl1 = 12;\n",
    "zahl2 = 31;\n",
    "ergebnis = zahl1 + zahl2;\n",
    "Console.WriteLine(ergebnis)"
   ]
  },
  {
   "cell_type": "markdown",
   "metadata": {},
   "source": [
    "### Arbeitsauftrag 3: Werte einlesen, zwischenspeichern und ausgeben\n",
    "\n",
    "Erstellen Sie eine neue Konsolenanwendung und implementieren Sie einen Algorithums der den Benutzer zur Eingabe seines Namens auffordert und ihn dann mit seinem Namen begrüßt."
   ]
  },
  {
   "cell_type": "code",
   "execution_count": null,
   "metadata": {},
   "outputs": [],
   "source": []
  }
 ],
 "metadata": {
  "kernelspec": {
   "display_name": "C#",
   "language": "csharp",
   "name": "csharp"
  },
  "language_info": {
   "file_extension": ".cs",
   "mimetype": "text/x-csharp",
   "name": "C#",
   "pygments_lexer": "c#",
   "version": "4.0.30319"
  }
 },
 "nbformat": 4,
 "nbformat_minor": 4
}
